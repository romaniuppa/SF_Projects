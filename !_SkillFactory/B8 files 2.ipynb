{
 "cells": [
  {
   "cell_type": "code",
   "execution_count": 1,
   "metadata": {},
   "outputs": [
    {
     "name": "stdout",
     "output_type": "stream",
     "text": [
      "500\n",
      "1318\n"
     ]
    }
   ],
   "source": [
    "import pandas as pd\n",
    "\n",
    "df = pd.read_csv('recipes.csv')\n",
    "\n",
    "# создания списка id всех блюд, представленных в датафрейме \n",
    "ids = df.id\n",
    "print(len(ids))\n",
    "\n",
    "# создания списка ингредиентов всех блюд, представленных в датафрейме (колонки)\n",
    "ingredients = df.columns[3:] \n",
    "print(len(ingredients))\n"
   ]
  },
  {
   "cell_type": "code",
   "execution_count": 2,
   "metadata": {},
   "outputs": [
    {
     "data": {
      "text/plain": [
       "1"
      ]
     },
     "execution_count": 2,
     "metadata": {},
     "output_type": "execute_result"
    }
   ],
   "source": [
    "df['yellow crookneck squash'].iloc[121]"
   ]
  },
  {
   "cell_type": "code",
   "execution_count": 3,
   "metadata": {},
   "outputs": [
    {
     "data": {
      "text/plain": [
       "{'cuisine': 'greek',\n",
       " 'id': 10259,\n",
       " 'ingredients': ['black olives',\n",
       "  'feta cheese crumbles',\n",
       "  'garbanzo beans',\n",
       "  'purple onion',\n",
       "  'pepper',\n",
       "  'garlic',\n",
       "  'seasoning',\n",
       "  'romaine lettuce',\n",
       "  'grape tomatoes']}"
      ]
     },
     "execution_count": 3,
     "metadata": {},
     "output_type": "execute_result"
    }
   ],
   "source": [
    "new_recipes = []\n",
    "ids = df.id\n",
    "ingredients = df.columns[3:]\n",
    "    \n",
    "def make_list(x):\n",
    "    y = []\n",
    "    for ingr in ingredients:\n",
    "        if int(x[ingr]) > 0:\n",
    "            y.append(ingr)\n",
    "    return y\n",
    "\n",
    "for current_id in ids:\n",
    "    cuisine = df[df['id'] == current_id]['cuisine'].iloc[0]\n",
    "    current_ingredients = make_list(df[df['id'] == current_id])\n",
    "    current_recipe = {'cuisine': cuisine, 'id': int(current_id), 'ingredients': current_ingredients}\n",
    "    new_recipes.append(current_recipe)\n",
    "new_recipes[0]"
   ]
  },
  {
   "cell_type": "code",
   "execution_count": 4,
   "metadata": {},
   "outputs": [],
   "source": [
    "import json\n",
    "new_recipes = json.dumps(new_recipes)\n",
    "with open(\"new_recipes.json\", \"w\") as write_file:\n",
    "    write_file.write(new_recipes)"
   ]
  },
  {
   "cell_type": "code",
   "execution_count": 84,
   "metadata": {},
   "outputs": [],
   "source": [
    "with open(\"new_recipes.json\", \"w\") as write_file:\n",
    "    json.dump(new_recipes, write_file)"
   ]
  },
  {
   "cell_type": "code",
   "execution_count": null,
   "metadata": {},
   "outputs": [],
   "source": []
  }
 ],
 "metadata": {
  "kernelspec": {
   "display_name": "Python 3",
   "language": "python",
   "name": "python3"
  },
  "language_info": {
   "codemirror_mode": {
    "name": "ipython",
    "version": 3
   },
   "file_extension": ".py",
   "mimetype": "text/x-python",
   "name": "python",
   "nbconvert_exporter": "python",
   "pygments_lexer": "ipython3",
   "version": "3.7.4"
  }
 },
 "nbformat": 4,
 "nbformat_minor": 2
}
